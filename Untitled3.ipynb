{
 "cells": [
  {
   "cell_type": "markdown",
   "id": "5c4feddb",
   "metadata": {},
   "source": [
    "# Homework  - Laura Tvanba"
   ]
  },
  {
   "cell_type": "markdown",
   "id": "557c3aff",
   "metadata": {},
   "source": [
    "# 1.1"
   ]
  },
  {
   "cell_type": "code",
   "execution_count": 3,
   "id": "a7312449",
   "metadata": {},
   "outputs": [
    {
     "name": "stdout",
     "output_type": "stream",
     "text": [
      "Intercept    3573.20\n",
      "totwrk         -0.17\n",
      "male           88.84\n",
      "dtype: float64\n"
     ]
    }
   ],
   "source": [
    "import pandas as pd\n",
    "import statsmodels.formula.api as sm\n",
    "import numpy as np\n",
    "\n",
    "url = 'https://raw.githubusercontent.com/artamonoff/Econometrica/master/python-notebooks/data-csv/sleep75.csv'\n",
    "\n",
    "data = pd.read_csv(url)\n",
    "\n",
    "model = sm.ols('sleep ~ totwrk + male', data=data)\n",
    "\n",
    "results = model.fit()\n",
    "\n",
    "print(results.params.round(2))\n"
   ]
  },
  {
   "cell_type": "markdown",
   "id": "ba0beb8c",
   "metadata": {},
   "source": [
    "# Спецификация \n",
    "$$\n",
    "sleep = \\beta_0 + \\beta_1*totwrk + \\beta_2*male                    \n",
    "$$"
   ]
  },
  {
   "cell_type": "markdown",
   "id": "759d8fa8",
   "metadata": {},
   "source": [
    "1. При увеличении totwrk  на 1 мин/нед, то sleep уменьшится на 0.17 мин/нед\n",
    "2. В среднем мужчины спят на 88.84 мин/нед больше чем женщины"
   ]
  },
  {
   "cell_type": "markdown",
   "id": "20493e6a",
   "metadata": {},
   "source": [
    "# 1.2"
   ]
  },
  {
   "cell_type": "code",
   "execution_count": 4,
   "id": "4aed54c3",
   "metadata": {},
   "outputs": [
    {
     "name": "stdout",
     "output_type": "stream",
     "text": [
      "Intercept    3446.83\n",
      "totwrk         -0.17\n",
      "male           87.11\n",
      "smsa          -54.19\n",
      "age             2.71\n",
      "south         102.27\n",
      "yngkid        -13.05\n",
      "marr           31.36\n",
      "union          11.87\n",
      "dtype: float64\n"
     ]
    }
   ],
   "source": [
    "import pandas as pd\n",
    "import statsmodels.formula.api as sm\n",
    "import numpy as np\n",
    "\n",
    "url = 'https://raw.githubusercontent.com/artamonoff/Econometrica/master/python-notebooks/data-csv/sleep75.csv'\n",
    "\n",
    "data = pd.read_csv(url)\n",
    "\n",
    "model = sm.ols('sleep ~ totwrk + male + smsa + age + south + yngkid + marr + union', data=data)\n",
    "\n",
    "results = model.fit()\n",
    "\n",
    "print(results.params.round(2))\n"
   ]
  },
  {
   "cell_type": "markdown",
   "id": "485fc20c",
   "metadata": {},
   "source": [
    "# Спецификация \n",
    "$$\n",
    "sleep = \\beta_0 + \\beta_1*totwrk + \\beta_2*male + \\beta_3*smsa + \\beta_4*age + \\beta_5*south + \\beta_6*yngkid + \\beta_7*marr + \\beta_8*union                 \n",
    "$$"
   ]
  },
  {
   "cell_type": "markdown",
   "id": "9b6e5020",
   "metadata": {},
   "source": [
    "1. При увеличении totwrk на 1 мин/нед, то sleep уменьшится на 0.17 мин/нед\n",
    "2. В среднем мужчины спят на 87.11 мин/нед больше чем женщины"
   ]
  },
  {
   "cell_type": "markdown",
   "id": "9671acc7",
   "metadata": {},
   "source": [
    "# 1.3"
   ]
  },
  {
   "cell_type": "code",
   "execution_count": 6,
   "id": "930aeddd",
   "metadata": {},
   "outputs": [
    {
     "name": "stdout",
     "output_type": "stream",
     "text": [
      "Intercept         3440.19\n",
      "np.log(hrwage)      -1.39\n",
      "smsa               -36.96\n",
      "totwrk              -0.16\n",
      "male                36.87\n",
      "marr                53.34\n",
      "age                  2.37\n",
      "south               76.27\n",
      "yngkid              47.92\n",
      "dtype: float64\n"
     ]
    }
   ],
   "source": [
    "import pandas as pd\n",
    "import statsmodels.formula.api as sm\n",
    "import numpy as np\n",
    "\n",
    "url = 'https://raw.githubusercontent.com/artamonoff/Econometrica/master/python-notebooks/data-csv/sleep75.csv'\n",
    "\n",
    "data = pd.read_csv(url)\n",
    "\n",
    "model = sm.ols('sleep ~ np.log(hrwage) + smsa + totwrk + male + marr + age + south + yngkid', data=data)\n",
    "\n",
    "results = model.fit()\n",
    "\n",
    "print(results.params.round(2))"
   ]
  },
  {
   "cell_type": "markdown",
   "id": "e81a66fb",
   "metadata": {},
   "source": [
    "# Спецификация \n",
    "$$\n",
    "sleep = \\beta_0 + \\beta_1*log(hrwage) + \\beta_2*smsa + \\beta_3*totwrk + \\beta_4*male + \\beta_5*marr + \\beta_6*age + \\beta_7*south + \\beta_8*yngkid  \n",
    "$$"
   ]
  },
  {
   "cell_type": "markdown",
   "id": "b7db598d",
   "metadata": {},
   "source": [
    "1. При увеличении age на 1 год, wage изменяется на 2%  \n",
    "2. При увеличении iq на 1 единицу, wage изменяется на 1%"
   ]
  },
  {
   "cell_type": "markdown",
   "id": "09cfd261",
   "metadata": {},
   "source": [
    "# 2.1"
   ]
  },
  {
   "cell_type": "code",
   "execution_count": 10,
   "id": "b54c8d1e",
   "metadata": {
    "scrolled": true
   },
   "outputs": [
    {
     "name": "stdout",
     "output_type": "stream",
     "text": [
      "Intercept    5.077\n",
      "age          0.024\n",
      "IQ           0.009\n",
      "dtype: float64\n"
     ]
    }
   ],
   "source": [
    "import pandas as pd\n",
    "import statsmodels.formula.api as sm\n",
    "import numpy as np\n",
    "\n",
    "url = 'https://raw.githubusercontent.com/artamonoff/Econometrica/master/python-notebooks/data-csv/wage2.csv'\n",
    "\n",
    "data = pd.read_csv(url)\n",
    "\n",
    "model = sm.ols('np.log(wage) ~ age + IQ', data=data)\n",
    "\n",
    "results = model.fit()\n",
    "\n",
    "print(results.params.round(3))\n"
   ]
  },
  {
   "cell_type": "markdown",
   "id": "7e6e6991",
   "metadata": {},
   "source": [
    "# Спецификация \n",
    "$$\n",
    "sleep = \\beta_0 + \\beta_1*age + \\beta_2*IQ\n",
    "$$"
   ]
  },
  {
   "cell_type": "markdown",
   "id": "c2155bf5",
   "metadata": {},
   "source": [
    "1. При увеличении age на 1 год, wage изменяется на 2%  \n",
    "2. При увеличении iq на 1 единицу, wage изменяется на 1%"
   ]
  },
  {
   "cell_type": "markdown",
   "id": "d94ec681",
   "metadata": {},
   "source": [
    "# 2.2"
   ]
  },
  {
   "cell_type": "code",
   "execution_count": 8,
   "id": "884b08f1",
   "metadata": {},
   "outputs": [
    {
     "name": "stdout",
     "output_type": "stream",
     "text": [
      "Intercept    5.126\n",
      "age          0.014\n",
      "IQ           0.007\n",
      "south       -0.101\n",
      "urban        0.165\n",
      "married      0.191\n",
      "KWW          0.007\n",
      "dtype: float64\n"
     ]
    }
   ],
   "source": [
    "import pandas as pd\n",
    "import statsmodels.formula.api as sm\n",
    "import numpy as np\n",
    "\n",
    "url = 'https://raw.githubusercontent.com/artamonoff/Econometrica/master/python-notebooks/data-csv/wage2.csv'\n",
    "\n",
    "data = pd.read_csv(url)\n",
    "\n",
    "model = sm.ols('np.log(wage) ~ age + IQ + south + urban + married + KWW', data=data)\n",
    "\n",
    "results = model.fit()\n",
    "\n",
    "print(results.params.round(3))"
   ]
  },
  {
   "cell_type": "markdown",
   "id": "c238911f",
   "metadata": {},
   "source": [
    "# Спецификация \n",
    "$$\n",
    "sleep = \\beta_0 + \\beta_1*age + \\beta_2*IQ + \\beta_3*south + \\beta_4*urban + \\beta_5*married + \\beta_6*KWW  \n",
    "$$"
   ]
  },
  {
   "cell_type": "markdown",
   "id": "e31f9278",
   "metadata": {},
   "source": [
    "1. При увеличении age на 1 год, wage изменяется на 1.4%  \n",
    "2. При увеличении iq на 1 единицу, wage изменяется на 0.7%"
   ]
  },
  {
   "cell_type": "markdown",
   "id": "11882ef3",
   "metadata": {},
   "source": [
    "# 3.1"
   ]
  },
  {
   "cell_type": "code",
   "execution_count": 12,
   "id": "8d86b19d",
   "metadata": {},
   "outputs": [
    {
     "name": "stdout",
     "output_type": "stream",
     "text": [
      "Intercept         -1.711\n",
      "np.log(capital)    0.208\n",
      "np.log(labour)     0.715\n",
      "dtype: float64\n"
     ]
    }
   ],
   "source": [
    "import pandas as pd\n",
    "import statsmodels.formula.api as sm\n",
    "import numpy as np\n",
    "\n",
    "url = 'https://raw.githubusercontent.com/artamonoff/Econometrica/master/python-notebooks/data-csv/Labour.csv'\n",
    "\n",
    "data = pd.read_csv(url)\n",
    "\n",
    "model = sm.ols('np.log(output) ~ np.log(capital)  + np.log(labour)', data=data)\n",
    "\n",
    "results = model.fit()\n",
    "\n",
    "print(results.params.round(3))\n"
   ]
  },
  {
   "cell_type": "markdown",
   "id": "327a923e",
   "metadata": {},
   "source": [
    "# Спецификация \n",
    "$$\n",
    "sleep = \\beta_0 + \\beta_1*log(capital) + \\beta_2*log(labour)\n",
    "$$"
   ]
  },
  {
   "cell_type": "markdown",
   "id": "24a97647",
   "metadata": {},
   "source": [
    "1. При увеличении знач переменной capital на 1% приблизительно равен 0.208%\n",
    "2. При увеличении знач переменной labour на 1% приблизительно равен 0.715%"
   ]
  },
  {
   "cell_type": "markdown",
   "id": "170171ee",
   "metadata": {},
   "source": [
    "# 3.2"
   ]
  },
  {
   "cell_type": "code",
   "execution_count": 13,
   "id": "911079ca",
   "metadata": {},
   "outputs": [
    {
     "name": "stdout",
     "output_type": "stream",
     "text": [
      "Intercept         -5.007\n",
      "np.log(capital)    0.149\n",
      "np.log(labour)     0.720\n",
      "np.log(wage)       0.921\n",
      "dtype: float64\n"
     ]
    }
   ],
   "source": [
    "import pandas as pd\n",
    "import statsmodels.formula.api as sm\n",
    "import numpy as np\n",
    "\n",
    "url = 'https://raw.githubusercontent.com/artamonoff/Econometrica/master/python-notebooks/data-csv/Labour.csv'\n",
    "\n",
    "data = pd.read_csv(url)\n",
    "\n",
    "model = sm.ols('np.log(output) ~ np.log(capital)  + np.log(labour) + np.log(wage)', data=data)\n",
    "\n",
    "results = model.fit()\n",
    "\n",
    "print(results.params.round(3))\n"
   ]
  },
  {
   "cell_type": "markdown",
   "id": "c8aadca3",
   "metadata": {},
   "source": [
    "# Спецификация \n",
    "$$\n",
    "sleep = \\beta_0 + \\beta_1*log(capital) + \\beta_2*log(labour) + \\beta_2*log(wage)\n",
    "$$"
   ]
  },
  {
   "cell_type": "markdown",
   "id": "db001224",
   "metadata": {},
   "source": [
    "1. При увеличении знач переменной capital на 1% приблизительно равен 0.149%\n",
    "2. При увеличении знач переменной labour на 1% приблизительно равен 0.720%\n",
    "3. При увеличении знач переменной wage на 1% приблизительно равен 0.921%"
   ]
  },
  {
   "cell_type": "markdown",
   "id": "17f0ce5c",
   "metadata": {},
   "source": [
    "# 4.1"
   ]
  },
  {
   "cell_type": "code",
   "execution_count": 15,
   "id": "70e10704",
   "metadata": {},
   "outputs": [
    {
     "name": "stdout",
     "output_type": "stream",
     "text": [
      "Intercept   -3.841\n",
      "np.log(q)    0.836\n",
      "dtype: float64\n"
     ]
    }
   ],
   "source": [
    "import pandas as pd\n",
    "import statsmodels.formula.api as sm\n",
    "import numpy as np\n",
    "\n",
    "url = 'https://raw.githubusercontent.com/artamonoff/Econometrica/master/python-notebooks/data-csv/Electricity.csv'\n",
    "\n",
    "data = pd.read_csv(url)\n",
    "\n",
    "model = sm.ols('np.log(cost) ~ np.log(q)', data=data)\n",
    "\n",
    "results = model.fit()\n",
    "\n",
    "print(results.params.round(3))"
   ]
  },
  {
   "cell_type": "markdown",
   "id": "7d515c65",
   "metadata": {},
   "source": [
    "# Спецификация \n",
    "$$\n",
    "sleep = \\beta_0 + \\beta_1*log(q) \n",
    "$$"
   ]
  },
  {
   "cell_type": "markdown",
   "id": "00d4be83",
   "metadata": {},
   "source": [
    "1. При увеличении знач переменной q на 1% приблизительно равен 0.836%"
   ]
  },
  {
   "cell_type": "markdown",
   "id": "87225c3a",
   "metadata": {},
   "source": [
    "# 4.2"
   ]
  },
  {
   "cell_type": "code",
   "execution_count": 16,
   "id": "0d1bafa5",
   "metadata": {},
   "outputs": [
    {
     "name": "stdout",
     "output_type": "stream",
     "text": [
      "Intercept    -7.472\n",
      "np.log(q)     0.838\n",
      "np.log(pl)    0.044\n",
      "np.log(pf)    0.713\n",
      "np.log(pk)    0.188\n",
      "dtype: float64\n"
     ]
    }
   ],
   "source": [
    "import pandas as pd\n",
    "import statsmodels.formula.api as sm\n",
    "import numpy as np\n",
    "\n",
    "url = 'https://raw.githubusercontent.com/artamonoff/Econometrica/master/python-notebooks/data-csv/Electricity.csv'\n",
    "\n",
    "data = pd.read_csv(url)\n",
    "\n",
    "model = sm.ols('np.log(cost) ~ np.log(q) + np.log(pl) + np.log(pf) + np.log(pk)', data=data)\n",
    "\n",
    "results = model.fit()\n",
    "\n",
    "print(results.params.round(3))"
   ]
  },
  {
   "cell_type": "markdown",
   "id": "fa741356",
   "metadata": {},
   "source": [
    "# Спецификация \n",
    "$$\n",
    "sleep = \\beta_0 + \\beta_1*log(p) + \\beta_2*log(pl) + \\beta_3*log(pf) + \\beta_4*log(pk)\n",
    "$$"
   ]
  },
  {
   "cell_type": "markdown",
   "id": "c22ff459",
   "metadata": {},
   "source": [
    "1. При увеличении знач переменной q на 1% приблизительно равен 0.838%\n",
    "2. При увеличении знач переменной pl на 1% приблизительно равен 0.044%\n",
    "3. При увеличении знач переменной pf на 1% приблизительно равен 0.713%\n",
    "4. При увеличении знач переменной pk на 1% приблизительно равен 0.188%"
   ]
  }
 ],
 "metadata": {
  "kernelspec": {
   "display_name": "Python 3 (ipykernel)",
   "language": "python",
   "name": "python3"
  },
  "language_info": {
   "codemirror_mode": {
    "name": "ipython",
    "version": 3
   },
   "file_extension": ".py",
   "mimetype": "text/x-python",
   "name": "python",
   "nbconvert_exporter": "python",
   "pygments_lexer": "ipython3",
   "version": "3.11.2"
  }
 },
 "nbformat": 4,
 "nbformat_minor": 5
}
