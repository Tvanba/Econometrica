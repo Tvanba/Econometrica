{
 "cells": [
  {
   "cell_type": "code",
   "execution_count": 2,
   "id": "b84482ab-3c5b-4d06-96c4-3d8a64f4facc",
   "metadata": {},
   "outputs": [],
   "source": [
    "import pandas as pd\n",
    "import numpy as np\n",
    "import statsmodels.api as sm\n",
    "import statsmodels.formula.api as smf\n",
    "from matplotlib import pyplot as plt\n",
    "from statsmodels.iolib.summary2 import summary_params, summary_col\n",
    "import seaborn as sns"
   ]
  },
  {
   "cell_type": "markdown",
   "id": "b12e381d-1134-4dff-9007-910e7cd7368c",
   "metadata": {},
   "source": [
    "# Задание 1"
   ]
  },
  {
   "cell_type": "code",
   "execution_count": 3,
   "id": "d8d6fb1a-febc-4be4-8850-f9a41bcc04be",
   "metadata": {},
   "outputs": [],
   "source": [
    "data = pd.read_csv(\"https://raw.githubusercontent.com/artamonoff/Econometrica/master/python-notebooks/data-csv/sleep75.csv\")"
   ]
  },
  {
   "cell_type": "code",
   "execution_count": 4,
   "id": "c00f7bf5-a09b-4adb-828c-f79e6c9cd2d6",
   "metadata": {},
   "outputs": [
    {
     "data": {
      "text/html": [
       "<div>\n",
       "<style scoped>\n",
       "    .dataframe tbody tr th:only-of-type {\n",
       "        vertical-align: middle;\n",
       "    }\n",
       "\n",
       "    .dataframe tbody tr th {\n",
       "        vertical-align: top;\n",
       "    }\n",
       "\n",
       "    .dataframe thead th {\n",
       "        text-align: right;\n",
       "    }\n",
       "</style>\n",
       "<table border=\"1\" class=\"dataframe\">\n",
       "  <thead>\n",
       "    <tr style=\"text-align: right;\">\n",
       "      <th></th>\n",
       "      <th>age</th>\n",
       "      <th>black</th>\n",
       "      <th>case</th>\n",
       "      <th>clerical</th>\n",
       "      <th>construc</th>\n",
       "      <th>educ</th>\n",
       "      <th>earns74</th>\n",
       "      <th>gdhlth</th>\n",
       "      <th>inlf</th>\n",
       "      <th>leis1</th>\n",
       "      <th>...</th>\n",
       "      <th>spwrk75</th>\n",
       "      <th>totwrk</th>\n",
       "      <th>union</th>\n",
       "      <th>worknrm</th>\n",
       "      <th>workscnd</th>\n",
       "      <th>exper</th>\n",
       "      <th>yngkid</th>\n",
       "      <th>yrsmarr</th>\n",
       "      <th>hrwage</th>\n",
       "      <th>agesq</th>\n",
       "    </tr>\n",
       "  </thead>\n",
       "  <tbody>\n",
       "    <tr>\n",
       "      <th>0</th>\n",
       "      <td>32</td>\n",
       "      <td>0</td>\n",
       "      <td>1</td>\n",
       "      <td>0.0</td>\n",
       "      <td>0.0</td>\n",
       "      <td>12</td>\n",
       "      <td>0</td>\n",
       "      <td>0</td>\n",
       "      <td>1</td>\n",
       "      <td>3529</td>\n",
       "      <td>...</td>\n",
       "      <td>0</td>\n",
       "      <td>3438</td>\n",
       "      <td>0</td>\n",
       "      <td>3438</td>\n",
       "      <td>0</td>\n",
       "      <td>14</td>\n",
       "      <td>0</td>\n",
       "      <td>13</td>\n",
       "      <td>7.070004</td>\n",
       "      <td>1024</td>\n",
       "    </tr>\n",
       "    <tr>\n",
       "      <th>1</th>\n",
       "      <td>31</td>\n",
       "      <td>0</td>\n",
       "      <td>2</td>\n",
       "      <td>0.0</td>\n",
       "      <td>0.0</td>\n",
       "      <td>14</td>\n",
       "      <td>9500</td>\n",
       "      <td>1</td>\n",
       "      <td>1</td>\n",
       "      <td>2140</td>\n",
       "      <td>...</td>\n",
       "      <td>0</td>\n",
       "      <td>5020</td>\n",
       "      <td>0</td>\n",
       "      <td>5020</td>\n",
       "      <td>0</td>\n",
       "      <td>11</td>\n",
       "      <td>0</td>\n",
       "      <td>0</td>\n",
       "      <td>1.429999</td>\n",
       "      <td>961</td>\n",
       "    </tr>\n",
       "    <tr>\n",
       "      <th>2</th>\n",
       "      <td>44</td>\n",
       "      <td>0</td>\n",
       "      <td>3</td>\n",
       "      <td>0.0</td>\n",
       "      <td>0.0</td>\n",
       "      <td>17</td>\n",
       "      <td>42500</td>\n",
       "      <td>1</td>\n",
       "      <td>1</td>\n",
       "      <td>4595</td>\n",
       "      <td>...</td>\n",
       "      <td>1</td>\n",
       "      <td>2815</td>\n",
       "      <td>0</td>\n",
       "      <td>2815</td>\n",
       "      <td>0</td>\n",
       "      <td>21</td>\n",
       "      <td>0</td>\n",
       "      <td>0</td>\n",
       "      <td>20.529997</td>\n",
       "      <td>1936</td>\n",
       "    </tr>\n",
       "    <tr>\n",
       "      <th>3</th>\n",
       "      <td>30</td>\n",
       "      <td>0</td>\n",
       "      <td>4</td>\n",
       "      <td>0.0</td>\n",
       "      <td>0.0</td>\n",
       "      <td>12</td>\n",
       "      <td>42500</td>\n",
       "      <td>1</td>\n",
       "      <td>1</td>\n",
       "      <td>3211</td>\n",
       "      <td>...</td>\n",
       "      <td>1</td>\n",
       "      <td>3786</td>\n",
       "      <td>0</td>\n",
       "      <td>3786</td>\n",
       "      <td>0</td>\n",
       "      <td>12</td>\n",
       "      <td>0</td>\n",
       "      <td>12</td>\n",
       "      <td>9.619998</td>\n",
       "      <td>900</td>\n",
       "    </tr>\n",
       "    <tr>\n",
       "      <th>4</th>\n",
       "      <td>64</td>\n",
       "      <td>0</td>\n",
       "      <td>5</td>\n",
       "      <td>0.0</td>\n",
       "      <td>0.0</td>\n",
       "      <td>14</td>\n",
       "      <td>2500</td>\n",
       "      <td>1</td>\n",
       "      <td>1</td>\n",
       "      <td>4052</td>\n",
       "      <td>...</td>\n",
       "      <td>1</td>\n",
       "      <td>2580</td>\n",
       "      <td>0</td>\n",
       "      <td>2580</td>\n",
       "      <td>0</td>\n",
       "      <td>44</td>\n",
       "      <td>0</td>\n",
       "      <td>33</td>\n",
       "      <td>2.750000</td>\n",
       "      <td>4096</td>\n",
       "    </tr>\n",
       "  </tbody>\n",
       "</table>\n",
       "<p>5 rows × 34 columns</p>\n",
       "</div>"
      ],
      "text/plain": [
       "   age  black  case  clerical  construc  educ  earns74  gdhlth  inlf  leis1  \\\n",
       "0   32      0     1       0.0       0.0    12        0       0     1   3529   \n",
       "1   31      0     2       0.0       0.0    14     9500       1     1   2140   \n",
       "2   44      0     3       0.0       0.0    17    42500       1     1   4595   \n",
       "3   30      0     4       0.0       0.0    12    42500       1     1   3211   \n",
       "4   64      0     5       0.0       0.0    14     2500       1     1   4052   \n",
       "\n",
       "   ...  spwrk75  totwrk  union  worknrm  workscnd  exper  yngkid  yrsmarr  \\\n",
       "0  ...        0    3438      0     3438         0     14       0       13   \n",
       "1  ...        0    5020      0     5020         0     11       0        0   \n",
       "2  ...        1    2815      0     2815         0     21       0        0   \n",
       "3  ...        1    3786      0     3786         0     12       0       12   \n",
       "4  ...        1    2580      0     2580         0     44       0       33   \n",
       "\n",
       "      hrwage  agesq  \n",
       "0   7.070004   1024  \n",
       "1   1.429999    961  \n",
       "2  20.529997   1936  \n",
       "3   9.619998    900  \n",
       "4   2.750000   4096  \n",
       "\n",
       "[5 rows x 34 columns]"
      ]
     },
     "execution_count": 4,
     "metadata": {},
     "output_type": "execute_result"
    }
   ],
   "source": [
    "data.head()"
   ]
  },
  {
   "cell_type": "markdown",
   "id": "7417b6d7-f9b3-4c44-acf2-1a5afe68719e",
   "metadata": {},
   "source": [
    "# Задание 2"
   ]
  },
  {
   "cell_type": "markdown",
   "id": "cb023728-ebab-44f0-af38-505fda47107a",
   "metadata": {},
   "source": [
    "Спецификация имеет вид\n",
    "$$\n",
    "sleep = \\beta_0+\\beta_1age+\\beta_2educ+\\beta_3totwrk+\\beta_4black+u\n",
    "$$"
   ]
  },
  {
   "cell_type": "code",
   "execution_count": 5,
   "id": "0be0b032-5874-44a9-831e-4802ba1d9f16",
   "metadata": {},
   "outputs": [
    {
     "data": {
      "text/html": [
       "<table class=\"simpletable\">\n",
       "<caption>OLS Regression Results</caption>\n",
       "<tr>\n",
       "  <th>Dep. Variable:</th>          <td>sleep</td>      <th>  R-squared:         </th> <td>   0.115</td> \n",
       "</tr>\n",
       "<tr>\n",
       "  <th>Model:</th>                   <td>OLS</td>       <th>  Adj. R-squared:    </th> <td>   0.109</td> \n",
       "</tr>\n",
       "<tr>\n",
       "  <th>Method:</th>             <td>Least Squares</td>  <th>  F-statistic:       </th> <td>   22.67</td> \n",
       "</tr>\n",
       "<tr>\n",
       "  <th>Date:</th>             <td>Wed, 24 May 2023</td> <th>  Prob (F-statistic):</th> <td>1.25e-17</td> \n",
       "</tr>\n",
       "<tr>\n",
       "  <th>Time:</th>                 <td>10:57:40</td>     <th>  Log-Likelihood:    </th> <td> -5262.6</td> \n",
       "</tr>\n",
       "<tr>\n",
       "  <th>No. Observations:</th>      <td>   706</td>      <th>  AIC:               </th> <td>1.054e+04</td>\n",
       "</tr>\n",
       "<tr>\n",
       "  <th>Df Residuals:</th>          <td>   701</td>      <th>  BIC:               </th> <td>1.056e+04</td>\n",
       "</tr>\n",
       "<tr>\n",
       "  <th>Df Model:</th>              <td>     4</td>      <th>                     </th>     <td> </td>    \n",
       "</tr>\n",
       "<tr>\n",
       "  <th>Covariance Type:</th>      <td>nonrobust</td>    <th>                     </th>     <td> </td>    \n",
       "</tr>\n",
       "</table>\n",
       "<table class=\"simpletable\">\n",
       "<tr>\n",
       "      <td></td>         <th>coef</th>     <th>std err</th>      <th>t</th>      <th>P>|t|</th>  <th>[0.025</th>    <th>0.975]</th>  \n",
       "</tr>\n",
       "<tr>\n",
       "  <th>Intercept</th> <td> 3650.0285</td> <td>  112.946</td> <td>   32.317</td> <td> 0.000</td> <td> 3428.276</td> <td> 3871.781</td>\n",
       "</tr>\n",
       "<tr>\n",
       "  <th>age</th>       <td>    2.0957</td> <td>    1.450</td> <td>    1.446</td> <td> 0.149</td> <td>   -0.751</td> <td>    4.942</td>\n",
       "</tr>\n",
       "<tr>\n",
       "  <th>educ</th>      <td>  -11.3866</td> <td>    5.891</td> <td>   -1.933</td> <td> 0.054</td> <td>  -22.952</td> <td>    0.179</td>\n",
       "</tr>\n",
       "<tr>\n",
       "  <th>totwrk</th>    <td>   -0.1489</td> <td>    0.017</td> <td>   -8.913</td> <td> 0.000</td> <td>   -0.182</td> <td>   -0.116</td>\n",
       "</tr>\n",
       "<tr>\n",
       "  <th>black</th>     <td>  -70.2554</td> <td>   72.969</td> <td>   -0.963</td> <td> 0.336</td> <td> -213.519</td> <td>   73.008</td>\n",
       "</tr>\n",
       "</table>\n",
       "<table class=\"simpletable\">\n",
       "<tr>\n",
       "  <th>Omnibus:</th>       <td>67.917</td> <th>  Durbin-Watson:     </th> <td>   1.943</td>\n",
       "</tr>\n",
       "<tr>\n",
       "  <th>Prob(Omnibus):</th> <td> 0.000</td> <th>  Jarque-Bera (JB):  </th> <td> 182.538</td>\n",
       "</tr>\n",
       "<tr>\n",
       "  <th>Skew:</th>          <td>-0.491</td> <th>  Prob(JB):          </th> <td>2.30e-40</td>\n",
       "</tr>\n",
       "<tr>\n",
       "  <th>Kurtosis:</th>      <td> 5.289</td> <th>  Cond. No.          </th> <td>1.67e+04</td>\n",
       "</tr>\n",
       "</table><br/><br/>Notes:<br/>[1] Standard Errors assume that the covariance matrix of the errors is correctly specified.<br/>[2] The condition number is large, 1.67e+04. This might indicate that there are<br/>strong multicollinearity or other numerical problems."
      ],
      "text/plain": [
       "<class 'statsmodels.iolib.summary.Summary'>\n",
       "\"\"\"\n",
       "                            OLS Regression Results                            \n",
       "==============================================================================\n",
       "Dep. Variable:                  sleep   R-squared:                       0.115\n",
       "Model:                            OLS   Adj. R-squared:                  0.109\n",
       "Method:                 Least Squares   F-statistic:                     22.67\n",
       "Date:                Wed, 24 May 2023   Prob (F-statistic):           1.25e-17\n",
       "Time:                        10:57:40   Log-Likelihood:                -5262.6\n",
       "No. Observations:                 706   AIC:                         1.054e+04\n",
       "Df Residuals:                     701   BIC:                         1.056e+04\n",
       "Df Model:                           4                                         \n",
       "Covariance Type:            nonrobust                                         \n",
       "==============================================================================\n",
       "                 coef    std err          t      P>|t|      [0.025      0.975]\n",
       "------------------------------------------------------------------------------\n",
       "Intercept   3650.0285    112.946     32.317      0.000    3428.276    3871.781\n",
       "age            2.0957      1.450      1.446      0.149      -0.751       4.942\n",
       "educ         -11.3866      5.891     -1.933      0.054     -22.952       0.179\n",
       "totwrk        -0.1489      0.017     -8.913      0.000      -0.182      -0.116\n",
       "black        -70.2554     72.969     -0.963      0.336    -213.519      73.008\n",
       "==============================================================================\n",
       "Omnibus:                       67.917   Durbin-Watson:                   1.943\n",
       "Prob(Omnibus):                  0.000   Jarque-Bera (JB):              182.538\n",
       "Skew:                          -0.491   Prob(JB):                     2.30e-40\n",
       "Kurtosis:                       5.289   Cond. No.                     1.67e+04\n",
       "==============================================================================\n",
       "\n",
       "Notes:\n",
       "[1] Standard Errors assume that the covariance matrix of the errors is correctly specified.\n",
       "[2] The condition number is large, 1.67e+04. This might indicate that there are\n",
       "strong multicollinearity or other numerical problems.\n",
       "\"\"\""
      ]
     },
     "execution_count": 5,
     "metadata": {},
     "output_type": "execute_result"
    }
   ],
   "source": [
    "mod2_1 = smf.ols(\"sleep ~ age+educ+totwrk+black\", data=data).fit()\n",
    "mod2_1.summary()"
   ]
  },
  {
   "cell_type": "markdown",
   "id": "8c9d407d-b286-4d71-8d95-ce7896e0f5b2",
   "metadata": {},
   "source": [
    "# Задание 3"
   ]
  },
  {
   "cell_type": "code",
   "execution_count": null,
   "id": "d14463c1-55b8-4397-b66a-a83056ec4a56",
   "metadata": {},
   "outputs": [],
   "source": [
    "# mod3_1 = smf.ols(\"sleep ~ age+educ+totwrk+black\", data=data).fit()\n",
    "# x = np.arange(1,18,1)\n",
    "# # plt.scatter(data.educ, mod3_1.predict(data))\n",
    "# plt.plot(x, mod3_1.predict(x))"
   ]
  },
  {
   "cell_type": "code",
   "execution_count": null,
   "id": "96769ab8-9bda-4d4f-9bf3-a9064ea17f77",
   "metadata": {},
   "outputs": [],
   "source": []
  },
  {
   "cell_type": "markdown",
   "id": "b0a1f647-fce5-4c06-aa6e-be149e829bac",
   "metadata": {},
   "source": [
    "# Задание 4"
   ]
  },
  {
   "cell_type": "markdown",
   "id": "ba8ed9ee-f7e7-454f-832c-d78c40e14520",
   "metadata": {},
   "source": [
    "Добавим в регрессию квадрат возраста, а вместо продолжительности сна будем использовать логарифм продолжительности сна "
   ]
  },
  {
   "cell_type": "code",
   "execution_count": 18,
   "id": "4993aac0-b710-4087-9648-8db8ce7d87ae",
   "metadata": {},
   "outputs": [
    {
     "data": {
      "text/html": [
       "<table class=\"simpletable\">\n",
       "<caption>OLS Regression Results</caption>\n",
       "<tr>\n",
       "  <th>Dep. Variable:</th>      <td>np.log(sleep)</td>  <th>  R-squared:         </th> <td>   0.103</td>\n",
       "</tr>\n",
       "<tr>\n",
       "  <th>Model:</th>                   <td>OLS</td>       <th>  Adj. R-squared:    </th> <td>   0.097</td>\n",
       "</tr>\n",
       "<tr>\n",
       "  <th>Method:</th>             <td>Least Squares</td>  <th>  F-statistic:       </th> <td>   16.13</td>\n",
       "</tr>\n",
       "<tr>\n",
       "  <th>Date:</th>             <td>Wed, 24 May 2023</td> <th>  Prob (F-statistic):</th> <td>4.53e-15</td>\n",
       "</tr>\n",
       "<tr>\n",
       "  <th>Time:</th>                 <td>10:34:13</td>     <th>  Log-Likelihood:    </th> <td>  372.91</td>\n",
       "</tr>\n",
       "<tr>\n",
       "  <th>No. Observations:</th>      <td>   706</td>      <th>  AIC:               </th> <td>  -733.8</td>\n",
       "</tr>\n",
       "<tr>\n",
       "  <th>Df Residuals:</th>          <td>   700</td>      <th>  BIC:               </th> <td>  -706.5</td>\n",
       "</tr>\n",
       "<tr>\n",
       "  <th>Df Model:</th>              <td>     5</td>      <th>                     </th>     <td> </td>   \n",
       "</tr>\n",
       "<tr>\n",
       "  <th>Covariance Type:</th>      <td>nonrobust</td>    <th>                     </th>     <td> </td>   \n",
       "</tr>\n",
       "</table>\n",
       "<table class=\"simpletable\">\n",
       "<tr>\n",
       "      <td></td>         <th>coef</th>     <th>std err</th>      <th>t</th>      <th>P>|t|</th>  <th>[0.025</th>    <th>0.975]</th>  \n",
       "</tr>\n",
       "<tr>\n",
       "  <th>Intercept</th> <td>    8.2252</td> <td>    0.081</td> <td>  101.946</td> <td> 0.000</td> <td>    8.067</td> <td>    8.384</td>\n",
       "</tr>\n",
       "<tr>\n",
       "  <th>age</th>       <td>   -0.0014</td> <td>    0.004</td> <td>   -0.356</td> <td> 0.722</td> <td>   -0.009</td> <td>    0.006</td>\n",
       "</tr>\n",
       "<tr>\n",
       "  <th>agesq</th>     <td> 2.685e-05</td> <td> 4.59e-05</td> <td>    0.584</td> <td> 0.559</td> <td>-6.34e-05</td> <td>    0.000</td>\n",
       "</tr>\n",
       "<tr>\n",
       "  <th>educ</th>      <td>   -0.0026</td> <td>    0.002</td> <td>   -1.278</td> <td> 0.202</td> <td>   -0.007</td> <td>    0.001</td>\n",
       "</tr>\n",
       "<tr>\n",
       "  <th>totwrk</th>    <td>-4.757e-05</td> <td> 5.77e-06</td> <td>   -8.248</td> <td> 0.000</td> <td>-5.89e-05</td> <td>-3.62e-05</td>\n",
       "</tr>\n",
       "<tr>\n",
       "  <th>black</th>     <td>   -0.0226</td> <td>    0.025</td> <td>   -0.905</td> <td> 0.366</td> <td>   -0.072</td> <td>    0.026</td>\n",
       "</tr>\n",
       "</table>\n",
       "<table class=\"simpletable\">\n",
       "<tr>\n",
       "  <th>Omnibus:</th>       <td>408.825</td> <th>  Durbin-Watson:     </th> <td>   1.964</td>\n",
       "</tr>\n",
       "<tr>\n",
       "  <th>Prob(Omnibus):</th> <td> 0.000</td>  <th>  Jarque-Bera (JB):  </th> <td>7959.168</td>\n",
       "</tr>\n",
       "<tr>\n",
       "  <th>Skew:</th>          <td>-2.184</td>  <th>  Prob(JB):          </th> <td>    0.00</td>\n",
       "</tr>\n",
       "<tr>\n",
       "  <th>Kurtosis:</th>      <td>18.858</td>  <th>  Cond. No.          </th> <td>4.24e+04</td>\n",
       "</tr>\n",
       "</table><br/><br/>Notes:<br/>[1] Standard Errors assume that the covariance matrix of the errors is correctly specified.<br/>[2] The condition number is large, 4.24e+04. This might indicate that there are<br/>strong multicollinearity or other numerical problems."
      ],
      "text/plain": [
       "<class 'statsmodels.iolib.summary.Summary'>\n",
       "\"\"\"\n",
       "                            OLS Regression Results                            \n",
       "==============================================================================\n",
       "Dep. Variable:          np.log(sleep)   R-squared:                       0.103\n",
       "Model:                            OLS   Adj. R-squared:                  0.097\n",
       "Method:                 Least Squares   F-statistic:                     16.13\n",
       "Date:                Wed, 24 May 2023   Prob (F-statistic):           4.53e-15\n",
       "Time:                        10:34:13   Log-Likelihood:                 372.91\n",
       "No. Observations:                 706   AIC:                            -733.8\n",
       "Df Residuals:                     700   BIC:                            -706.5\n",
       "Df Model:                           5                                         \n",
       "Covariance Type:            nonrobust                                         \n",
       "==============================================================================\n",
       "                 coef    std err          t      P>|t|      [0.025      0.975]\n",
       "------------------------------------------------------------------------------\n",
       "Intercept      8.2252      0.081    101.946      0.000       8.067       8.384\n",
       "age           -0.0014      0.004     -0.356      0.722      -0.009       0.006\n",
       "agesq       2.685e-05   4.59e-05      0.584      0.559   -6.34e-05       0.000\n",
       "educ          -0.0026      0.002     -1.278      0.202      -0.007       0.001\n",
       "totwrk     -4.757e-05   5.77e-06     -8.248      0.000   -5.89e-05   -3.62e-05\n",
       "black         -0.0226      0.025     -0.905      0.366      -0.072       0.026\n",
       "==============================================================================\n",
       "Omnibus:                      408.825   Durbin-Watson:                   1.964\n",
       "Prob(Omnibus):                  0.000   Jarque-Bera (JB):             7959.168\n",
       "Skew:                          -2.184   Prob(JB):                         0.00\n",
       "Kurtosis:                      18.858   Cond. No.                     4.24e+04\n",
       "==============================================================================\n",
       "\n",
       "Notes:\n",
       "[1] Standard Errors assume that the covariance matrix of the errors is correctly specified.\n",
       "[2] The condition number is large, 4.24e+04. This might indicate that there are\n",
       "strong multicollinearity or other numerical problems.\n",
       "\"\"\""
      ]
     },
     "execution_count": 18,
     "metadata": {},
     "output_type": "execute_result"
    }
   ],
   "source": [
    "mod4_1 = smf.ols(\"np.log(sleep) ~ age+agesq+educ+totwrk+black\", data=data).fit()\n",
    "mod4_1.summary()"
   ]
  },
  {
   "cell_type": "markdown",
   "id": "50c81cdc-f358-4271-b905-460cdf5ed254",
   "metadata": {},
   "source": [
    "Скорректированный R квадрат уменьшился, что может говорить об ухудшении качества модели. Однако AIC и BIC также уменьшились, что может говорить об улучшении. Выводы неоднозначные.  "
   ]
  },
  {
   "cell_type": "markdown",
   "id": "5ac6ef30-cfe6-4d64-a385-9934c1319910",
   "metadata": {},
   "source": [
    "# Задание 5"
   ]
  },
  {
   "cell_type": "code",
   "execution_count": 20,
   "id": "415b7a2f-32e4-48e2-a5f1-5988f446fa88",
   "metadata": {},
   "outputs": [
    {
     "data": {
      "text/html": [
       "<table class=\"simpletable\">\n",
       "<caption>OLS Regression Results</caption>\n",
       "<tr>\n",
       "  <th>Dep. Variable:</th>          <td>sleep</td>      <th>  R-squared:         </th> <td>   0.115</td> \n",
       "</tr>\n",
       "<tr>\n",
       "  <th>Model:</th>                   <td>OLS</td>       <th>  Adj. R-squared:    </th> <td>   0.109</td> \n",
       "</tr>\n",
       "<tr>\n",
       "  <th>Method:</th>             <td>Least Squares</td>  <th>  F-statistic:       </th> <td>   22.67</td> \n",
       "</tr>\n",
       "<tr>\n",
       "  <th>Date:</th>             <td>Wed, 24 May 2023</td> <th>  Prob (F-statistic):</th> <td>1.25e-17</td> \n",
       "</tr>\n",
       "<tr>\n",
       "  <th>Time:</th>                 <td>10:35:59</td>     <th>  Log-Likelihood:    </th> <td> -5262.6</td> \n",
       "</tr>\n",
       "<tr>\n",
       "  <th>No. Observations:</th>      <td>   706</td>      <th>  AIC:               </th> <td>1.054e+04</td>\n",
       "</tr>\n",
       "<tr>\n",
       "  <th>Df Residuals:</th>          <td>   701</td>      <th>  BIC:               </th> <td>1.056e+04</td>\n",
       "</tr>\n",
       "<tr>\n",
       "  <th>Df Model:</th>              <td>     4</td>      <th>                     </th>     <td> </td>    \n",
       "</tr>\n",
       "<tr>\n",
       "  <th>Covariance Type:</th>      <td>nonrobust</td>    <th>                     </th>     <td> </td>    \n",
       "</tr>\n",
       "</table>\n",
       "<table class=\"simpletable\">\n",
       "<tr>\n",
       "      <td></td>         <th>coef</th>     <th>std err</th>      <th>t</th>      <th>P>|t|</th>  <th>[0.025</th>    <th>0.975]</th>  \n",
       "</tr>\n",
       "<tr>\n",
       "  <th>Intercept</th> <td> 3650.0285</td> <td>  112.946</td> <td>   32.317</td> <td> 0.000</td> <td> 3428.276</td> <td> 3871.781</td>\n",
       "</tr>\n",
       "<tr>\n",
       "  <th>age</th>       <td>    2.0957</td> <td>    1.450</td> <td>    1.446</td> <td> 0.149</td> <td>   -0.751</td> <td>    4.942</td>\n",
       "</tr>\n",
       "<tr>\n",
       "  <th>educ</th>      <td>  -11.3866</td> <td>    5.891</td> <td>   -1.933</td> <td> 0.054</td> <td>  -22.952</td> <td>    0.179</td>\n",
       "</tr>\n",
       "<tr>\n",
       "  <th>totwrk</th>    <td>   -0.1489</td> <td>    0.017</td> <td>   -8.913</td> <td> 0.000</td> <td>   -0.182</td> <td>   -0.116</td>\n",
       "</tr>\n",
       "<tr>\n",
       "  <th>black</th>     <td>  -70.2554</td> <td>   72.969</td> <td>   -0.963</td> <td> 0.336</td> <td> -213.519</td> <td>   73.008</td>\n",
       "</tr>\n",
       "</table>\n",
       "<table class=\"simpletable\">\n",
       "<tr>\n",
       "  <th>Omnibus:</th>       <td>67.917</td> <th>  Durbin-Watson:     </th> <td>   1.943</td>\n",
       "</tr>\n",
       "<tr>\n",
       "  <th>Prob(Omnibus):</th> <td> 0.000</td> <th>  Jarque-Bera (JB):  </th> <td> 182.538</td>\n",
       "</tr>\n",
       "<tr>\n",
       "  <th>Skew:</th>          <td>-0.491</td> <th>  Prob(JB):          </th> <td>2.30e-40</td>\n",
       "</tr>\n",
       "<tr>\n",
       "  <th>Kurtosis:</th>      <td> 5.289</td> <th>  Cond. No.          </th> <td>1.67e+04</td>\n",
       "</tr>\n",
       "</table><br/><br/>Notes:<br/>[1] Standard Errors assume that the covariance matrix of the errors is correctly specified.<br/>[2] The condition number is large, 1.67e+04. This might indicate that there are<br/>strong multicollinearity or other numerical problems."
      ],
      "text/plain": [
       "<class 'statsmodels.iolib.summary.Summary'>\n",
       "\"\"\"\n",
       "                            OLS Regression Results                            \n",
       "==============================================================================\n",
       "Dep. Variable:                  sleep   R-squared:                       0.115\n",
       "Model:                            OLS   Adj. R-squared:                  0.109\n",
       "Method:                 Least Squares   F-statistic:                     22.67\n",
       "Date:                Wed, 24 May 2023   Prob (F-statistic):           1.25e-17\n",
       "Time:                        10:35:59   Log-Likelihood:                -5262.6\n",
       "No. Observations:                 706   AIC:                         1.054e+04\n",
       "Df Residuals:                     701   BIC:                         1.056e+04\n",
       "Df Model:                           4                                         \n",
       "Covariance Type:            nonrobust                                         \n",
       "==============================================================================\n",
       "                 coef    std err          t      P>|t|      [0.025      0.975]\n",
       "------------------------------------------------------------------------------\n",
       "Intercept   3650.0285    112.946     32.317      0.000    3428.276    3871.781\n",
       "age            2.0957      1.450      1.446      0.149      -0.751       4.942\n",
       "educ         -11.3866      5.891     -1.933      0.054     -22.952       0.179\n",
       "totwrk        -0.1489      0.017     -8.913      0.000      -0.182      -0.116\n",
       "black        -70.2554     72.969     -0.963      0.336    -213.519      73.008\n",
       "==============================================================================\n",
       "Omnibus:                       67.917   Durbin-Watson:                   1.943\n",
       "Prob(Omnibus):                  0.000   Jarque-Bera (JB):              182.538\n",
       "Skew:                          -0.491   Prob(JB):                     2.30e-40\n",
       "Kurtosis:                       5.289   Cond. No.                     1.67e+04\n",
       "==============================================================================\n",
       "\n",
       "Notes:\n",
       "[1] Standard Errors assume that the covariance matrix of the errors is correctly specified.\n",
       "[2] The condition number is large, 1.67e+04. This might indicate that there are\n",
       "strong multicollinearity or other numerical problems.\n",
       "\"\"\""
      ]
     },
     "execution_count": 20,
     "metadata": {},
     "output_type": "execute_result"
    }
   ],
   "source": [
    "mod5_1 = smf.ols(\"sleep ~ age+educ+totwrk+black\", data=data).fit()\n",
    "mod5_1.summary()"
   ]
  },
  {
   "cell_type": "markdown",
   "id": "2d54a86e-986e-4f44-84b9-02df82df78ee",
   "metadata": {},
   "source": [
    "На уровне значимости в 1%, значимы только константа и коэффициент при totwrk. Не значимы коэффициенты при age, black и educ."
   ]
  },
  {
   "cell_type": "markdown",
   "id": "05ab8011-c2dc-474c-998b-4d3e26418ba6",
   "metadata": {},
   "source": [
    "# Задание 6"
   ]
  },
  {
   "cell_type": "markdown",
   "id": "a3806509-b250-46ea-b0e7-4221486a4933",
   "metadata": {},
   "source": [
    "Константа не интерпретируется. Интерпретация коэффициента при totwrk следующая: при прочих равных, в среднем, увеличение занятости на одну минуту в неделю связано с уменьшением продолжительности сна на 0.1489 минут в неделю. "
   ]
  },
  {
   "cell_type": "markdown",
   "id": "bff4a287-bc36-401e-890b-d7696a9bbeca",
   "metadata": {},
   "source": [
    "# Задание 7"
   ]
  },
  {
   "cell_type": "markdown",
   "id": "af4e1d26-4013-42e8-9f4c-7958975628ed",
   "metadata": {},
   "source": [
    "Спрогнозируем значения для первых трёх наблюдений"
   ]
  },
  {
   "cell_type": "code",
   "execution_count": 23,
   "id": "118c44db-4cfe-496c-8604-8b6a518c0991",
   "metadata": {},
   "outputs": [
    {
     "data": {
      "text/plain": [
       "0    3068.681679\n",
       "1    2808.320454\n",
       "2    3129.635656\n",
       "dtype: float64"
      ]
     },
     "execution_count": 23,
     "metadata": {},
     "output_type": "execute_result"
    }
   ],
   "source": [
    "mod7_1 = smf.ols(\"sleep ~ age+educ+totwrk+black\", data=data).fit()\n",
    "mod7_1.predict(data.iloc[:3])"
   ]
  },
  {
   "cell_type": "markdown",
   "id": "d7c2b486-8b29-4131-acc1-4f3ab5966f07",
   "metadata": {},
   "source": [
    "Истинные значения равны"
   ]
  },
  {
   "cell_type": "code",
   "execution_count": 24,
   "id": "5ffd2359-3aa8-4fa3-b7fe-d7116a7b2e0e",
   "metadata": {},
   "outputs": [
    {
     "data": {
      "text/plain": [
       "0    3113\n",
       "1    2920\n",
       "2    2670\n",
       "Name: sleep, dtype: int64"
      ]
     },
     "execution_count": 24,
     "metadata": {},
     "output_type": "execute_result"
    }
   ],
   "source": [
    "data.iloc[:3]['sleep']"
   ]
  },
  {
   "cell_type": "markdown",
   "id": "fc8bf11b-10c3-4187-815d-0733234c4a90",
   "metadata": {},
   "source": [
    "# Задание 8"
   ]
  },
  {
   "cell_type": "markdown",
   "id": "e959c19f-8883-4e62-a222-fda4c155e458",
   "metadata": {},
   "source": [
    "Вычислим RSS и TSS "
   ]
  },
  {
   "cell_type": "code",
   "execution_count": 29,
   "id": "42e25c46-f76d-4be3-af9a-d863aace650e",
   "metadata": {},
   "outputs": [],
   "source": [
    "mod8_1 = smf.ols(\"sleep ~ age+educ+totwrk+black\", data=data).fit()\n",
    "RSS = sum(mod8_1.resid**2)\n",
    "TSS = sum((data.sleep-np.mean(data.sleep))**2)"
   ]
  },
  {
   "cell_type": "markdown",
   "id": "54cc9c76-ba23-4561-9546-a6b9a99f6d0d",
   "metadata": {},
   "source": [
    "Следовательно R^2 равен"
   ]
  },
  {
   "cell_type": "code",
   "execution_count": 32,
   "id": "58be4ef9-45ac-4f64-99da-4fc3cd16d509",
   "metadata": {},
   "outputs": [
    {
     "data": {
      "text/plain": [
       "0.11453490614898809"
      ]
     },
     "execution_count": 32,
     "metadata": {},
     "output_type": "execute_result"
    }
   ],
   "source": [
    "R2 = (TSS-RSS)/TSS\n",
    "R2"
   ]
  },
  {
   "cell_type": "markdown",
   "id": "9f8c13a8-7f0b-4339-a97e-59a88147a7e7",
   "metadata": {},
   "source": [
    "И стандартная ошибка регрессии равна"
   ]
  },
  {
   "cell_type": "code",
   "execution_count": 33,
   "id": "51b0ba20-30ad-4bd0-aadf-d13a5ebc9df9",
   "metadata": {},
   "outputs": [
    {
     "data": {
      "text/plain": [
       "417.8930258803622"
      ]
     },
     "execution_count": 33,
     "metadata": {},
     "output_type": "execute_result"
    }
   ],
   "source": [
    "from math import sqrt\n",
    "ser = sqrt(RSS/(len(data.index-4-1)))\n",
    "ser"
   ]
  },
  {
   "cell_type": "markdown",
   "id": "870ed4d3-f30f-4725-a08f-d44795c0408a",
   "metadata": {},
   "source": [
    "# Задание 9"
   ]
  },
  {
   "cell_type": "markdown",
   "id": "67fd7e72-2adb-403a-82cc-ab7192566636",
   "metadata": {},
   "source": [
    "Исправленный коэффициент R^2 вычисляется следующим образом"
   ]
  },
  {
   "cell_type": "code",
   "execution_count": 35,
   "id": "1bbfe583-b8bb-4b72-ac9f-830cf258ceea",
   "metadata": {},
   "outputs": [
    {
     "data": {
      "text/plain": [
       "0.10948232358778398"
      ]
     },
     "execution_count": 35,
     "metadata": {},
     "output_type": "execute_result"
    }
   ],
   "source": [
    "n = len(data.index)\n",
    "k = 4\n",
    "R2adj = 1- (1-R2)*(n-1)/(n-k-1)\n",
    "R2adj"
   ]
  },
  {
   "cell_type": "code",
   "execution_count": null,
   "id": "38090cf0-47fc-4fd6-8d42-ec1a38126006",
   "metadata": {},
   "outputs": [],
   "source": []
  }
 ],
 "metadata": {
  "kernelspec": {
   "display_name": "Python 3 (ipykernel)",
   "language": "python",
   "name": "python3"
  },
  "language_info": {
   "codemirror_mode": {
    "name": "ipython",
    "version": 3
   },
   "file_extension": ".py",
   "mimetype": "text/x-python",
   "name": "python",
   "nbconvert_exporter": "python",
   "pygments_lexer": "ipython3",
   "version": "3.9.1"
  }
 },
 "nbformat": 4,
 "nbformat_minor": 5
}
